{
 "cells": [
  {
   "cell_type": "markdown",
   "id": "fe2cd208",
   "metadata": {},
   "source": [
    "Q1. https://www.hackerrank.com/challenges/map-and-lambda-expression/problem"
   ]
  },
  {
   "cell_type": "code",
   "execution_count": 1,
   "id": "031a077c",
   "metadata": {},
   "outputs": [
    {
     "name": "stdout",
     "output_type": "stream",
     "text": [
      "5\n",
      "[0, 1, 1, 8, 27]\n"
     ]
    }
   ],
   "source": [
    "cube = lambda x:x**3 \n",
    "\n",
    "def fibonacci(n):\n",
    "    result=[0,1]\n",
    "    for i in range(2,n):\n",
    "        result.append(result[i-1]+result[i-2])\n",
    "        \n",
    "    return result[:n]\n",
    "if __name__ == '__main__':\n",
    "    n = int(input())\n",
    "    print(list(map(cube, fibonacci(n))))"
   ]
  },
  {
   "cell_type": "markdown",
   "id": "3bd5e73d",
   "metadata": {},
   "source": [
    "Q2. https://www.hackerrank.com/challenges/list-comprehensions/problem"
   ]
  },
  {
   "cell_type": "code",
   "execution_count": 2,
   "id": "44ae2df1",
   "metadata": {},
   "outputs": [
    {
     "name": "stdout",
     "output_type": "stream",
     "text": [
      "1\n",
      "1\n",
      "1\n",
      "2\n",
      "[[0, 0, 0], [0, 0, 1], [0, 1, 0], [1, 0, 0], [1, 1, 1]]\n"
     ]
    }
   ],
   "source": [
    "if __name__ == '__main__':\n",
    "    x = int(input())\n",
    "    y = int(input())\n",
    "    z = int(input())\n",
    "    n = int(input())\n",
    "    \n",
    "    \n",
    "    print(list([i,j,k] for i in range(x+1)for j in range(y+1) for k in range(z+1)  if  i+j+k!=n))"
   ]
  },
  {
   "cell_type": "markdown",
   "id": "418fb7cd",
   "metadata": {},
   "source": [
    "Q3. https://www.hackerrank.com/challenges/matching-specific-string/problem"
   ]
  },
  {
   "cell_type": "code",
   "execution_count": 3,
   "id": "3131b4a8",
   "metadata": {},
   "outputs": [
    {
     "name": "stdout",
     "output_type": "stream",
     "text": [
      "The hackerrank team is on a mission to flatten the world by restructuring the DNA of every company on the planet. We rank programmers based on their coding skills, helping companies source great programmers and reduce the time to hire. As a result, we are revolutionizing the way companies discover and evaluate talented engineers. The hackerrank platform is the destination for the best engineers to hone their skills and companies to find top engineers.\n",
      "Number of matches : 2\n"
     ]
    }
   ],
   "source": [
    "Regex_Pattern = r'h[a-z]{8}k'\t# Do not delete 'r'.\n",
    "\n",
    "import re\n",
    "\n",
    "Test_String = input()\n",
    "\n",
    "match = re.findall(Regex_Pattern, Test_String)\n",
    "\n",
    "print(\"Number of matches :\", len(match))"
   ]
  },
  {
   "cell_type": "markdown",
   "id": "f39b002d",
   "metadata": {},
   "source": [
    "Q4. https://www.hackerrank.com/challenges/matching-digits-non-digit-character/problem"
   ]
  },
  {
   "cell_type": "code",
   "execution_count": 4,
   "id": "281d14d8",
   "metadata": {},
   "outputs": [
    {
     "name": "stdout",
     "output_type": "stream",
     "text": [
      "06-11-2015\n",
      "true\n"
     ]
    }
   ],
   "source": [
    "Regex_Pattern = r\"\\d{2}\\D\\d{2}\\D\\d{4}\"\t# Do not delete 'r'.\n",
    "\n",
    "import re\n",
    "\n",
    "print(str(bool(re.search(Regex_Pattern, input()))).lower())"
   ]
  },
  {
   "cell_type": "markdown",
   "id": "5ab534f2",
   "metadata": {},
   "source": [
    "Q5. https://www.hackerrank.com/challenges/matching-specific-characters/problem"
   ]
  },
  {
   "cell_type": "code",
   "execution_count": 6,
   "id": "3bc0530a",
   "metadata": {},
   "outputs": [
    {
     "name": "stdout",
     "output_type": "stream",
     "text": [
      "1203x.\n",
      "true\n"
     ]
    }
   ],
   "source": [
    "Regex_Pattern = r'^[1-3][120][xs0][30Aa][xsu][.,]$'\t# Do not delete 'r'.\n",
    "\n",
    "import re\n",
    "\n",
    "print(str(bool(re.search(Regex_Pattern, input()))).lower())"
   ]
  },
  {
   "cell_type": "markdown",
   "id": "4681599d",
   "metadata": {},
   "source": [
    "Q6. https://www.hackerrank.com/challenges/matching-range-of-characters/problem"
   ]
  },
  {
   "cell_type": "code",
   "execution_count": 7,
   "id": "89a2780d",
   "metadata": {},
   "outputs": [
    {
     "name": "stdout",
     "output_type": "stream",
     "text": [
      "Success\n",
      "false\n"
     ]
    }
   ],
   "source": [
    "Regex_Pattern = r'^[a-z][1-9][^a-z][^A-Z][A-Z]'\t# Do not delete 'r'.\n",
    "\n",
    "import re\n",
    "\n",
    "print(str(bool(re.search(Regex_Pattern, input()))).lower())"
   ]
  },
  {
   "cell_type": "markdown",
   "id": "b18b0d2e",
   "metadata": {},
   "source": [
    "Q7. https://www.hackerrank.com/challenges/matching-start-end/problem"
   ]
  },
  {
   "cell_type": "code",
   "execution_count": 9,
   "id": "41102416",
   "metadata": {},
   "outputs": [
    {
     "name": "stdout",
     "output_type": "stream",
     "text": [
      "0qwer.\n",
      "true\n"
     ]
    }
   ],
   "source": [
    "Regex_Pattern = r\"^\\d\\w{4}.$\"\t# Do not delete 'r'.\n",
    "\n",
    "import re\n",
    "\n",
    "print(str(bool(re.search(Regex_Pattern, input()))).lower())"
   ]
  }
 ],
 "metadata": {
  "kernelspec": {
   "display_name": "Python 3 (ipykernel)",
   "language": "python",
   "name": "python3"
  },
  "language_info": {
   "codemirror_mode": {
    "name": "ipython",
    "version": 3
   },
   "file_extension": ".py",
   "mimetype": "text/x-python",
   "name": "python",
   "nbconvert_exporter": "python",
   "pygments_lexer": "ipython3",
   "version": "3.9.6"
  }
 },
 "nbformat": 4,
 "nbformat_minor": 5
}
